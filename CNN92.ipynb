{
 "cells": [
  {
   "cell_type": "code",
   "execution_count": null,
   "id": "8a433998",
   "metadata": {},
   "outputs": [],
   "source": [
    "# CONVOLUTIONAL NEURAL NETWORKS\n",
    "\n",
    "# Convert sparse matrices to dense NumPy arrays\n",
    "X_train_dense = X_train.toarray()\n",
    "X_test_dense = X_test.toarray()\n",
    "\n",
    "# Reshape data for CNN (ensure compatibility)\n",
    "# Reshape to (samples, features, 1) - treating features as a 1D sequence\n",
    "X_train_reshaped = X_train_dense.reshape(X_train_dense.shape[0], X_train_dense.shape[1], 1)\n",
    "X_test_reshaped = X_test_dense.reshape(X_test_dense.shape[0], X_test_dense.shape[1], 1)\n",
    "\n",
    "# Build CNN Model\n",
    "cnn_model = keras.Sequential([\n",
    "    keras.layers.Conv1D(32, 3, activation='relu', input_shape=(X_train_reshaped.shape[1], 1)), # Use Conv1D\n",
    "    keras.layers.MaxPooling1D(pool_size=2),  # Use MaxPooling1D\n",
    "    keras.layers.Flatten(),\n",
    "    keras.layers.Dense(64, activation='relu'),\n",
    "    keras.layers.Dense(len(set(y_train)), activation='softmax')\n",
    "])\n",
    "\n",
    "# Compile the Model\n",
    "cnn_model.compile(optimizer='adam', loss='sparse_categorical_crossentropy', metrics=['accuracy'])\n",
    "\n",
    "# Train the Model\n",
    "cnn_model.fit(X_train_reshaped, y_train, epochs=50, batch_size=32, verbose=1)\n",
    "\n",
    "# Predictions\n",
    "y_pred = cnn_model.predict(X_test_reshaped)\n",
    "cnn_y_pred_prob = y_pred[:, 1]  # Probability for positive class\n",
    "y_pred_classes = np.argmax(y_pred, axis=1)  # Convert probabilities to class labels\n",
    "\n",
    "# Classification Report\n",
    "print(\"CNN Classification Report:\")\n",
    "print(classification_report(y_test, y_pred_classes))\n",
    "\n",
    "# Confusion Matrix\n",
    "cm = confusion_matrix(y_test, y_pred_classes)\n",
    "plt.figure(figsize=(6, 5))\n",
    "sns.heatmap(cm, annot=True, fmt='d', cmap='Blues', xticklabels=['Non-AI', 'AI'], yticklabels=['Non-AI', 'AI'])\n",
    "plt.title(\"Confusion Matrix\")\n",
    "plt.xlabel(\"Predicted\")\n",
    "plt.ylabel(\"True\")\n",
    "plt.show()\n",
    "\n",
    "# CNN ROC Curve\n",
    "plot_roc_curve(y_test, cnn_y_pred_prob, \"CNN\")"
   ]
  }
 ],
 "metadata": {
  "language_info": {
   "name": "python"
  }
 },
 "nbformat": 4,
 "nbformat_minor": 5
}

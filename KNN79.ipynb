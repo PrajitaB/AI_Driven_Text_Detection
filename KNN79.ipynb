{
 "cells": [
  {
   "cell_type": "code",
   "execution_count": null,
   "id": "11983b33",
   "metadata": {},
   "outputs": [],
   "source": [
    "# K-NEAREST NEIGHBOUR\n",
    "from sklearn.neighbors import KNeighborsClassifier\n",
    "\n",
    "# Train KNN Model\n",
    "knn_model = KNeighborsClassifier(n_neighbors=50)\n",
    "knn_model.fit(X_train, y_train)\n",
    "\n",
    "# Predictions\n",
    "y_pred = knn_model.predict(X_test)\n",
    "knn_y_prob = lr_model.predict_proba(X_test)[:, 1]  # Probability for the positive class (AI)\n",
    "\n",
    "# Classification Report\n",
    "print(\"K-Nearest Neighbour Classification Report:\")\n",
    "print(classification_report(y_test, y_pred))\n",
    "\n",
    "# Confusion Matrix\n",
    "cm = confusion_matrix(y_test, y_pred)\n",
    "plt.figure(figsize=(6, 5))\n",
    "sns.heatmap(cm, annot=True, fmt='d', cmap='Blues', xticklabels=['Non-AI', 'AI'], yticklabels=['Non-AI', 'AI'])\n",
    "plt.title(\"Confusion Matrix\")\n",
    "plt.xlabel(\"Predicted\")\n",
    "plt.ylabel(\"True\")\n",
    "plt.show()\n",
    "\n",
    "# Plot ROC Curve\n",
    "plot_roc_curve(y_test, knn_y_prob, \"K-Nearest Neighbour\")"
   ]
  }
 ],
 "metadata": {
  "language_info": {
   "name": "python"
  }
 },
 "nbformat": 4,
 "nbformat_minor": 5
}

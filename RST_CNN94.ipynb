{
 "cells": [
  {
   "cell_type": "code",
   "execution_count": null,
   "id": "2263bade",
   "metadata": {},
   "outputs": [],
   "source": [
    "# RST x CNN\n",
    "# 4. CNN\n",
    "tokenizer = Tokenizer(num_words=5000)\n",
    "tokenizer.fit_on_texts(X_train)\n",
    "X_train_seq = tokenizer.texts_to_sequences(X_train)\n",
    "X_test_seq = tokenizer.texts_to_sequences(X_test)\n",
    "X_train_pad = pad_sequences(X_train_seq, maxlen=100)\n",
    "X_test_pad = pad_sequences(X_test_seq, maxlen=100)\n",
    "\n",
    "cnn_model = Sequential([\n",
    "    Embedding(5000, 128, input_length=100),\n",
    "    Conv1D(64, 5, activation='relu'),\n",
    "    GlobalMaxPooling1D(),\n",
    "    Dense(64, activation='relu'),\n",
    "    Dropout(0.5),\n",
    "    Dense(1, activation='sigmoid')\n",
    "])\n",
    "cnn_model.compile(optimizer='adam', loss='binary_crossentropy', metrics=['accuracy'])\n",
    "cnn_model.fit(X_train_pad, y_train, epochs=20, batch_size=32, validation_split=0.2, verbose=1)\n",
    "cnn_probs = cnn_model.predict(X_test_pad)\n",
    "cnn_preds = (cnn_probs > 0.5).astype(int)\n",
    "print(\"\\nCNN Classification Report:\")\n",
    "print(classification_report(y_test, cnn_preds))\n",
    "print(\"CNN Confusion Matrix:\")\n",
    "print(confusion_matrix(y_test, cnn_preds))\n",
    "plot_roc_curve(y_test, cnn_probs, \"CNN\")"
   ]
  }
 ],
 "metadata": {
  "language_info": {
   "name": "python"
  }
 },
 "nbformat": 4,
 "nbformat_minor": 5
}

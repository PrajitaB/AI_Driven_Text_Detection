{
 "cells": [
  {
   "cell_type": "code",
   "execution_count": null,
   "id": "06187a87",
   "metadata": {},
   "outputs": [],
   "source": [
    "# ARTIFICIAL NEURAL NETWORKS\n",
    "\n",
    "# Normalize the data (ANNs perform better with normalized data)\n",
    "# Set 'with_mean=False' to avoid centering the sparse matrix\n",
    "scaler = StandardScaler(with_mean=False)\n",
    "X_train_scaled = scaler.fit_transform(X_train)\n",
    "X_test_scaled = scaler.transform(X_test)\n",
    "\n",
    "# Build ANN Model\n",
    "ann_model = keras.Sequential([\n",
    "    keras.layers.Dense(64, activation='relu', input_shape=(X_train.shape[1],)),  # Hidden layer 1\n",
    "    keras.layers.Dense(32, activation='relu'),  # Hidden layer 2\n",
    "    keras.layers.Dense(len(set(y_train)), activation='softmax')  # Output layer (for multi-class classification)\n",
    "])\n",
    "\n",
    "# Compile the Model\n",
    "ann_model.compile(optimizer='adam', loss='sparse_categorical_crossentropy', metrics=['accuracy'])\n",
    "\n",
    "# Train the Model\n",
    "ann_model.fit(X_train_scaled, y_train, epochs=60, batch_size=32, verbose=1)\n",
    "\n",
    "# Predictions\n",
    "y_pred = ann_model.predict(X_test_scaled)\n",
    "ann_y_pred_prob = y_pred[:, 1]  # Probability for positive class\n",
    "y_pred_classes = y_pred.argmax(axis=1)  # Convert probabilities to class labels\n",
    "\n",
    "# Classification Report\n",
    "print(\"ANN Classification Report:\")\n",
    "print(classification_report(y_test, y_pred_classes))\n",
    "\n",
    "# Confusion Matrix\n",
    "cm = confusion_matrix(y_test, y_pred_classes)\n",
    "plt.figure(figsize=(6, 5))\n",
    "sns.heatmap(cm, annot=True, fmt='d', cmap='Blues', xticklabels=['Non-AI', 'AI'], yticklabels=['Non-AI', 'AI'])\n",
    "plt.title(\"Confusion Matrix\")\n",
    "plt.xlabel(\"Predicted\")\n",
    "plt.ylabel(\"True\")\n",
    "plt.show()\n",
    "\n",
    "# ANN ROC Curve\n",
    "plot_roc_curve(y_test, ann_y_pred_prob, \"ANN\")"
   ]
  }
 ],
 "metadata": {
  "language_info": {
   "name": "python"
  }
 },
 "nbformat": 4,
 "nbformat_minor": 5
}

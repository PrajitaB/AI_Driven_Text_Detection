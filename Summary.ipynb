{
 "cells": [
  {
   "cell_type": "code",
   "execution_count": null,
   "id": "bfa00db2",
   "metadata": {},
   "outputs": [],
   "source": [
    "\"\"\"\n",
    "## Detection of AI Generated Text ##\n",
    "\n",
    "__CLASSIFICATION ALGORITHMS__\n",
    "1. RoBERTa : 96%\n",
    "2. Support Vector Machine : 93%\n",
    "3. Convolutional Neural Networks : 92%\n",
    "4. Random Forest : 92%\n",
    "5. Decision Tree : 85%\n",
    "6. Logistic Regression : 83%\n",
    "7. Artificial Neural Networks : 83%\n",
    "8. K-Nearest Neighbour : 79%\n",
    "9. Naive Bayes : 73%\n",
    "\n",
    "__USING RST__\n",
    "1. RoBERTa : 97%\n",
    "2. Support Vector Machine : 96%\n",
    "3. Random Forest : 95%\n",
    "4. Convolutional Neural Networks : 94%\n",
    "5. H Score Method : 65%\n",
    "\n",
    "\"\"\""
   ]
  }
 ],
 "metadata": {
  "kernelspec": {
   "display_name": "Python 3",
   "language": "python",
   "name": "python3"
  },
  "language_info": {
   "codemirror_mode": {
    "name": "ipython",
    "version": 3
   },
   "file_extension": ".py",
   "mimetype": "text/x-python",
   "name": "python",
   "nbconvert_exporter": "python",
   "pygments_lexer": "ipython3",
   "version": "3.12.1"
  }
 },
 "nbformat": 4,
 "nbformat_minor": 5
}

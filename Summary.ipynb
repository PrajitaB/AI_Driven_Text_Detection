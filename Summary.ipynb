{
 "cells": [
  {
   "cell_type": "code",
   "execution_count": 1,
   "id": "da490fb3",
   "metadata": {},
   "outputs": [
    {
     "data": {
      "text/plain": [
       "'\\n## Detection of AI Generated Text ##\\n\\n__CLASSIFICATION ALGORITHMS__\\n1. RoBERTa : 96%\\n2. Support Vector Machine : 93%\\n3. Convolutional Neural Networks : 92%\\n4. Random Forest : 92%\\n5. Decision Tree : 85%\\n6. Logistic Regression : 83%\\n7. Artificial Neural Networks : 83%\\n8. K-Nearest Neighbour : 79%\\n9. Naive Bayes : 73%\\n\\n__USING RST__\\n1. RoBERTa : 97%\\n2. Support Vector Machine : 96%\\n3. Random Forest : 95%\\n4. Convolutional Neural Networks : 94%\\n5. H Score Method : 65%\\n\\n'"
      ]
     },
     "execution_count": 1,
     "metadata": {},
     "output_type": "execute_result"
    }
   ],
   "source": [
    "\"\"\"\n",
    "## Detection of AI Generated Text ##\n",
    "\n",
    "__CLASSIFICATION ALGORITHMS__\n",
    "1. RoBERTa : 96%\n",
    "2. Support Vector Machine : 93%\n",
    "3. Convolutional Neural Networks : 92%\n",
    "4. Random Forest : 92%\n",
    "5. Decision Tree : 85%\n",
    "6. Logistic Regression : 83%\n",
    "7. Artificial Neural Networks : 83%\n",
    "8. K-Nearest Neighbour : 79%\n",
    "9. Naive Bayes : 73%\n",
    "\n",
    "__USING RST__\n",
    "1. RoBERTa : 97%\n",
    "2. Support Vector Machine : 96%\n",
    "3. Random Forest : 95%\n",
    "4. Convolutional Neural Networks : 94%\n",
    "5. H Score Method : 65%\n",
    "\n",
    "\"\"\""
   ]
  }
 ],
 "metadata": {
  "kernelspec": {
   "display_name": "Python 3",
   "language": "python",
   "name": "python3"
  },
  "language_info": {
   "codemirror_mode": {
    "name": "ipython",
    "version": 3
   },
   "file_extension": ".py",
   "mimetype": "text/x-python",
   "name": "python",
   "nbconvert_exporter": "python",
   "pygments_lexer": "ipython3",
   "version": "3.12.1"
  }
 },
 "nbformat": 4,
 "nbformat_minor": 5
}

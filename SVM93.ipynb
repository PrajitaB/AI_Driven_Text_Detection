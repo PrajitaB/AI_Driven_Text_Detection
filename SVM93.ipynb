{
 "cells": [
  {
   "cell_type": "code",
   "execution_count": null,
   "id": "e7b5f228",
   "metadata": {},
   "outputs": [],
   "source": [
    "# SUPPORT VECTOR MACHINE\n",
    "from sklearn.svm import SVC\n",
    "\n",
    "# Train SVM Model\n",
    "svm_model = SVC(kernel='linear', probability=True)\n",
    "\n",
    "svm_model.fit(X_train, y_train)\n",
    "\n",
    "# Predictions\n",
    "y_pred = svm_model.predict(X_test)\n",
    "svm_y_prob = svm_model.predict_proba(X_test)[:, 1]\n",
    "\n",
    "# Classification Report\n",
    "print(\"SVM Classification Report:\")\n",
    "print(classification_report(y_test, y_pred))\n",
    "\n",
    "# Confusion Matrix\n",
    "cm = confusion_matrix(y_test, y_pred)\n",
    "plt.figure(figsize=(6, 5))\n",
    "sns.heatmap(cm, annot=True, fmt='d', cmap='Blues', xticklabels=['Non-AI', 'AI'], yticklabels=['Non-AI', 'AI'])\n",
    "plt.title(\"Confusion Matrix\")\n",
    "plt.xlabel(\"Predicted\")\n",
    "plt.ylabel(\"True\")\n",
    "plt.show()\n",
    "\n",
    "#Plot ROC Curve\n",
    "plot_roc_curve(y_test, svm_y_prob, \"SVM\")"
   ]
  }
 ],
 "metadata": {
  "language_info": {
   "name": "python"
  }
 },
 "nbformat": 4,
 "nbformat_minor": 5
}

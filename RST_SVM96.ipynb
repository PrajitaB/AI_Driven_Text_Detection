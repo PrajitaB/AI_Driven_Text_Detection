{
 "cells": [
  {
   "cell_type": "code",
   "execution_count": null,
   "id": "8160442b",
   "metadata": {},
   "outputs": [],
   "source": [
    "# RST x SVM\n",
    "# 1. RST with TF-IDF and Chi2 (original feature selection)\n",
    "tfidf = TfidfVectorizer(max_features=5000, ngram_range=(1, 2))\n",
    "X_train_tfidf = tfidf.fit_transform(X_train)\n",
    "X_test_tfidf = tfidf.transform(X_test)\n",
    "\n",
    "# Chi-squared scores (original H-score as feature relevance)\n",
    "chi2_scores, _ = chi2(X_train_tfidf, y_train)\n",
    "print(\"\\nTop 10 Chi-squared feature scores:\", sorted(chi2_scores, reverse=True)[:10])"
   ]
  },
  {
   "cell_type": "code",
   "execution_count": null,
   "id": "f97ae90f",
   "metadata": {},
   "outputs": [],
   "source": [
    "# 2. SVM\n",
    "svm = SVC(kernel='linear', probability=True)\n",
    "svm.fit(X_train_tfidf, y_train)\n",
    "svm_preds = svm.predict(X_test_tfidf)\n",
    "svm_probs = svm.predict_proba(X_test_tfidf)[:, 1]\n",
    "print(\"\\nSVM Classification Report:\")\n",
    "print(classification_report(y_test, svm_preds))\n",
    "print(\"SVM Confusion Matrix:\")\n",
    "print(confusion_matrix(y_test, svm_preds))\n",
    "plot_roc_curve(y_test, svm_probs, \"SVM\")"
   ]
  }
 ],
 "metadata": {
  "language_info": {
   "name": "python"
  }
 },
 "nbformat": 4,
 "nbformat_minor": 5
}

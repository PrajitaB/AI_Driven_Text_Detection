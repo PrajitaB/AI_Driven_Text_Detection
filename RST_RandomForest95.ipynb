{
 "cells": [
  {
   "cell_type": "code",
   "execution_count": null,
   "id": "edb4915e",
   "metadata": {},
   "outputs": [],
   "source": [
    "# RST x RANDOM FOREST\n",
    "# 1. RST with TF-IDF and Chi2 (original feature selection)\n",
    "tfidf = TfidfVectorizer(max_features=5000, ngram_range=(1, 2))\n",
    "X_train_tfidf = tfidf.fit_transform(X_train)\n",
    "X_test_tfidf = tfidf.transform(X_test)\n",
    "\n",
    "# Chi-squared scores (original H-score as feature relevance)\n",
    "chi2_scores, _ = chi2(X_train_tfidf, y_train)\n",
    "print(\"\\nTop 10 Chi-squared feature scores:\", sorted(chi2_scores, reverse=True)[:10])"
   ]
  },
  {
   "cell_type": "code",
   "execution_count": null,
   "id": "d47ed9ce",
   "metadata": {},
   "outputs": [],
   "source": [
    "# 3. Random Forest\n",
    "rf = RandomForestClassifier(n_estimators=100, random_state=42)\n",
    "rf.fit(X_train_tfidf, y_train)\n",
    "rf_preds = rf.predict(X_test_tfidf)\n",
    "rf_probs = rf.predict_proba(X_test_tfidf)[:, 1]\n",
    "print(\"\\nRandom Forest Classification Report:\")\n",
    "print(classification_report(y_test, rf_preds))\n",
    "print(\"Random Forest Confusion Matrix:\")\n",
    "print(confusion_matrix(y_test, rf_preds))\n",
    "plot_roc_curve(y_test, rf_probs, \"Random Forest\")"
   ]
  }
 ],
 "metadata": {
  "language_info": {
   "name": "python"
  }
 },
 "nbformat": 4,
 "nbformat_minor": 5
}
